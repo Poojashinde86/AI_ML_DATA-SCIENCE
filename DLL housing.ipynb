{
 "cells": [
  {
   "cell_type": "code",
   "execution_count": 1,
   "id": "510bfae0",
   "metadata": {},
   "outputs": [],
   "source": [
    "import numpy as np\n",
    "import pandas as pd\n",
    "import seaborn as sns\n",
    "import matplotlib.pyplot as plt\n",
    "from sklearn.datasets import fetch_california_housing\n",
    "from sklearn.model_selection import train_test_split\n",
    "from sklearn.preprocessing import StandardScaler\n",
    "import tensorflow as tf\n"
   ]
  },
  {
   "cell_type": "code",
   "execution_count": 2,
   "id": "637035f2",
   "metadata": {},
   "outputs": [],
   "source": [
    "# Load the Boston Housing dataset\n",
    "housing = fetch_california_housing()\n",
    "data = pd.DataFrame(housing.data, columns=housing.feature_names)\n",
    "data['PRICE'] = housing.target"
   ]
  },
  {
   "cell_type": "code",
   "execution_count": 3,
   "id": "b342999d",
   "metadata": {},
   "outputs": [],
   "source": [
    "X_train, X_test, y_train, y_test = train_test_split(data.iloc[:, :-1],\n",
    "data.iloc[:, -1], test_size=0.2, random_state=42)\n"
   ]
  },
  {
   "cell_type": "code",
   "execution_count": 4,
   "id": "777c1b80",
   "metadata": {},
   "outputs": [],
   "source": [
    "from sklearn.datasets import fetch_california_housing\n",
    "housing = fetch_california_housing()"
   ]
  },
  {
   "cell_type": "code",
   "execution_count": 5,
   "id": "e7fc516a",
   "metadata": {},
   "outputs": [
    {
     "name": "stderr",
     "output_type": "stream",
     "text": [
      "C:\\Users\\ASUS\\.conda\\envs\\tensorflow\\lib\\site-packages\\sklearn\\datasets\\_openml.py:968: FutureWarning: The default value of `parser` will change from `'liac-arff'` to `'auto'` in 1.4. You can set `parser='auto'` to silence this warning. Therefore, an `ImportError` will be raised from 1.4 if the dataset is dense and pandas is not installed. Note that the pandas parser may return different data types. See the Notes Section in fetch_openml's API doc for details.\n",
      "  warn(\n"
     ]
    }
   ],
   "source": [
    "from sklearn.datasets import fetch_openml\n",
    "housing = fetch_openml(name=\"house_prices\", as_frame=True)"
   ]
  },
  {
   "cell_type": "code",
   "execution_count": 6,
   "id": "de0cbc2c",
   "metadata": {},
   "outputs": [],
   "source": [
    "scaler = StandardScaler()\n",
    "X_train = scaler.fit_transform(X_train)\n",
    "X_test = scaler.transform(X_test)\n"
   ]
  },
  {
   "cell_type": "code",
   "execution_count": 7,
   "id": "f112c00f",
   "metadata": {},
   "outputs": [],
   "source": [
    "model = tf.keras.models.Sequential([\n",
    " tf.keras.layers.Dense(64, activation='relu', \n",
    "input_shape=(X_train.shape[1],)),\n",
    " tf.keras.layers.Dense(32, activation='relu'),\n",
    " tf.keras.layers.Dense(1)])\n",
    "\n"
   ]
  },
  {
   "cell_type": "code",
   "execution_count": 8,
   "id": "2948e099",
   "metadata": {},
   "outputs": [],
   "source": [
    "model.compile(optimizer='adam', loss='mse')"
   ]
  },
  {
   "cell_type": "code",
   "execution_count": 9,
   "id": "224eb8ea",
   "metadata": {},
   "outputs": [
    {
     "name": "stdout",
     "output_type": "stream",
     "text": [
      "Epoch 1/100\n",
      "413/413 [==============================] - 5s 7ms/step - loss: 1.1730 - val_loss: 0.4900\n",
      "Epoch 2/100\n",
      "413/413 [==============================] - 2s 4ms/step - loss: 0.4307 - val_loss: 0.4107\n",
      "Epoch 3/100\n",
      "413/413 [==============================] - 1s 4ms/step - loss: 0.3717 - val_loss: 0.3931\n",
      "Epoch 4/100\n",
      "413/413 [==============================] - 1s 4ms/step - loss: 0.3537 - val_loss: 0.3763\n",
      "Epoch 5/100\n",
      "413/413 [==============================] - 1s 3ms/step - loss: 0.3421 - val_loss: 0.3776\n",
      "Epoch 6/100\n",
      "413/413 [==============================] - 1s 4ms/step - loss: 0.3330 - val_loss: 0.3620\n",
      "Epoch 7/100\n",
      "413/413 [==============================] - 2s 4ms/step - loss: 0.3241 - val_loss: 0.3628\n",
      "Epoch 8/100\n",
      "413/413 [==============================] - 2s 4ms/step - loss: 0.3232 - val_loss: 0.3502\n",
      "Epoch 9/100\n",
      "413/413 [==============================] - 2s 4ms/step - loss: 0.3144 - val_loss: 0.3410\n",
      "Epoch 10/100\n",
      "413/413 [==============================] - 2s 6ms/step - loss: 0.3073 - val_loss: 0.3331\n",
      "Epoch 11/100\n",
      "413/413 [==============================] - 2s 5ms/step - loss: 0.3015 - val_loss: 0.3838\n",
      "Epoch 12/100\n",
      "413/413 [==============================] - 2s 4ms/step - loss: 0.3051 - val_loss: 0.3519\n",
      "Epoch 13/100\n",
      "413/413 [==============================] - 2s 5ms/step - loss: 0.2986 - val_loss: 0.3322\n",
      "Epoch 14/100\n",
      "413/413 [==============================] - 2s 5ms/step - loss: 0.3165 - val_loss: 0.3270\n",
      "Epoch 15/100\n",
      "413/413 [==============================] - 2s 5ms/step - loss: 0.2951 - val_loss: 0.3293\n",
      "Epoch 16/100\n",
      "413/413 [==============================] - 2s 5ms/step - loss: 0.2853 - val_loss: 0.3144\n",
      "Epoch 17/100\n",
      "413/413 [==============================] - 2s 4ms/step - loss: 0.2858 - val_loss: 0.3152\n",
      "Epoch 18/100\n",
      "413/413 [==============================] - 2s 4ms/step - loss: 0.2846 - val_loss: 0.3204\n",
      "Epoch 19/100\n",
      "413/413 [==============================] - 2s 5ms/step - loss: 0.2807 - val_loss: 0.3142\n",
      "Epoch 20/100\n",
      "413/413 [==============================] - 2s 5ms/step - loss: 0.2807 - val_loss: 0.3112\n",
      "Epoch 21/100\n",
      "413/413 [==============================] - 2s 4ms/step - loss: 0.2774 - val_loss: 0.3087\n",
      "Epoch 22/100\n",
      "413/413 [==============================] - 2s 4ms/step - loss: 0.2748 - val_loss: 0.3131\n",
      "Epoch 23/100\n",
      "413/413 [==============================] - 2s 4ms/step - loss: 0.2769 - val_loss: 0.3113\n",
      "Epoch 24/100\n",
      "413/413 [==============================] - 2s 4ms/step - loss: 0.2766 - val_loss: 0.3136\n",
      "Epoch 25/100\n",
      "413/413 [==============================] - 2s 4ms/step - loss: 0.2816 - val_loss: 0.3108\n",
      "Epoch 26/100\n",
      "413/413 [==============================] - 2s 4ms/step - loss: 0.2763 - val_loss: 0.3038\n",
      "Epoch 27/100\n",
      "413/413 [==============================] - 2s 4ms/step - loss: 0.2709 - val_loss: 0.3304\n",
      "Epoch 28/100\n",
      "413/413 [==============================] - 2s 4ms/step - loss: 0.2703 - val_loss: 0.3065\n",
      "Epoch 29/100\n",
      "413/413 [==============================] - 2s 4ms/step - loss: 0.2684 - val_loss: 0.3036\n",
      "Epoch 30/100\n",
      "413/413 [==============================] - 2s 4ms/step - loss: 0.2685 - val_loss: 0.3065\n",
      "Epoch 31/100\n",
      "413/413 [==============================] - 2s 4ms/step - loss: 0.2682 - val_loss: 0.3058\n",
      "Epoch 32/100\n",
      "413/413 [==============================] - 2s 4ms/step - loss: 0.2713 - val_loss: 0.3012\n",
      "Epoch 33/100\n",
      "413/413 [==============================] - 2s 4ms/step - loss: 0.2780 - val_loss: 0.3133\n",
      "Epoch 34/100\n",
      "413/413 [==============================] - 1s 4ms/step - loss: 0.2698 - val_loss: 0.2990\n",
      "Epoch 35/100\n",
      "413/413 [==============================] - 2s 4ms/step - loss: 0.2714 - val_loss: 0.3049\n",
      "Epoch 36/100\n",
      "413/413 [==============================] - 2s 4ms/step - loss: 0.2639 - val_loss: 0.2914\n",
      "Epoch 37/100\n",
      "413/413 [==============================] - 2s 4ms/step - loss: 0.2623 - val_loss: 0.3117\n",
      "Epoch 38/100\n",
      "413/413 [==============================] - 2s 4ms/step - loss: 0.2624 - val_loss: 0.2981\n",
      "Epoch 39/100\n",
      "413/413 [==============================] - 2s 4ms/step - loss: 0.2631 - val_loss: 0.2991\n",
      "Epoch 40/100\n",
      "413/413 [==============================] - 1s 4ms/step - loss: 0.2621 - val_loss: 0.3048\n",
      "Epoch 41/100\n",
      "413/413 [==============================] - 1s 4ms/step - loss: 0.2573 - val_loss: 0.2964\n",
      "Epoch 42/100\n",
      "413/413 [==============================] - 2s 4ms/step - loss: 0.2584 - val_loss: 0.2907\n",
      "Epoch 43/100\n",
      "413/413 [==============================] - 1s 4ms/step - loss: 0.2581 - val_loss: 0.2918\n",
      "Epoch 44/100\n",
      "413/413 [==============================] - 2s 4ms/step - loss: 0.2603 - val_loss: 0.3195\n",
      "Epoch 45/100\n",
      "413/413 [==============================] - 2s 4ms/step - loss: 0.2552 - val_loss: 0.2882\n",
      "Epoch 46/100\n",
      "413/413 [==============================] - 2s 4ms/step - loss: 0.2575 - val_loss: 0.2890\n",
      "Epoch 47/100\n",
      "413/413 [==============================] - 2s 5ms/step - loss: 0.2546 - val_loss: 0.2951\n",
      "Epoch 48/100\n",
      "413/413 [==============================] - 2s 4ms/step - loss: 0.2541 - val_loss: 0.2970\n",
      "Epoch 49/100\n",
      "413/413 [==============================] - 2s 4ms/step - loss: 0.2573 - val_loss: 0.3017\n",
      "Epoch 50/100\n",
      "413/413 [==============================] - 2s 4ms/step - loss: 0.2538 - val_loss: 0.2897\n",
      "Epoch 51/100\n",
      "413/413 [==============================] - 2s 4ms/step - loss: 0.2517 - val_loss: 0.2978\n",
      "Epoch 52/100\n",
      "413/413 [==============================] - 2s 4ms/step - loss: 0.2523 - val_loss: 0.2910\n",
      "Epoch 53/100\n",
      "413/413 [==============================] - 2s 4ms/step - loss: 0.2509 - val_loss: 0.2871\n",
      "Epoch 54/100\n",
      "413/413 [==============================] - 2s 4ms/step - loss: 0.2502 - val_loss: 0.2950\n",
      "Epoch 55/100\n",
      "413/413 [==============================] - 2s 4ms/step - loss: 0.2492 - val_loss: 0.2872\n",
      "Epoch 56/100\n",
      "413/413 [==============================] - 2s 4ms/step - loss: 0.2482 - val_loss: 0.2867\n",
      "Epoch 57/100\n",
      "413/413 [==============================] - 2s 4ms/step - loss: 0.2488 - val_loss: 0.2878\n",
      "Epoch 58/100\n",
      "413/413 [==============================] - 2s 4ms/step - loss: 0.2502 - val_loss: 0.2804\n",
      "Epoch 59/100\n",
      "413/413 [==============================] - 2s 4ms/step - loss: 0.2467 - val_loss: 0.2961\n",
      "Epoch 60/100\n",
      "413/413 [==============================] - 1s 4ms/step - loss: 0.2455 - val_loss: 0.2833\n",
      "Epoch 61/100\n",
      "413/413 [==============================] - 1s 4ms/step - loss: 0.2458 - val_loss: 0.2827\n",
      "Epoch 62/100\n",
      "413/413 [==============================] - 1s 4ms/step - loss: 0.2442 - val_loss: 0.2845\n",
      "Epoch 63/100\n",
      "413/413 [==============================] - 1s 3ms/step - loss: 0.2449 - val_loss: 0.2881\n",
      "Epoch 64/100\n",
      "413/413 [==============================] - 1s 3ms/step - loss: 0.2431 - val_loss: 0.2857\n",
      "Epoch 65/100\n",
      "413/413 [==============================] - 1s 3ms/step - loss: 0.2422 - val_loss: 0.2804\n",
      "Epoch 66/100\n",
      "413/413 [==============================] - 1s 3ms/step - loss: 0.2434 - val_loss: 0.2856\n",
      "Epoch 67/100\n",
      "413/413 [==============================] - 2s 4ms/step - loss: 0.2449 - val_loss: 0.2887\n",
      "Epoch 68/100\n",
      "413/413 [==============================] - 2s 4ms/step - loss: 0.2409 - val_loss: 0.2756\n",
      "Epoch 69/100\n",
      "413/413 [==============================] - 2s 4ms/step - loss: 0.2408 - val_loss: 0.2761\n",
      "Epoch 70/100\n",
      "413/413 [==============================] - 2s 4ms/step - loss: 0.2405 - val_loss: 0.2781\n",
      "Epoch 71/100\n",
      "413/413 [==============================] - 2s 5ms/step - loss: 0.2407 - val_loss: 0.2882\n",
      "Epoch 72/100\n",
      "413/413 [==============================] - 2s 4ms/step - loss: 0.2381 - val_loss: 0.2834\n",
      "Epoch 73/100\n",
      "413/413 [==============================] - 2s 4ms/step - loss: 0.2375 - val_loss: 0.2786\n",
      "Epoch 74/100\n",
      "413/413 [==============================] - 2s 4ms/step - loss: 0.2378 - val_loss: 0.2787\n",
      "Epoch 75/100\n",
      "413/413 [==============================] - 2s 4ms/step - loss: 0.2389 - val_loss: 0.2750\n",
      "Epoch 76/100\n",
      "413/413 [==============================] - 2s 5ms/step - loss: 0.2374 - val_loss: 0.2852\n",
      "Epoch 77/100\n",
      "413/413 [==============================] - 2s 5ms/step - loss: 0.2357 - val_loss: 0.2792\n",
      "Epoch 78/100\n",
      "413/413 [==============================] - 2s 5ms/step - loss: 0.2367 - val_loss: 0.2754\n",
      "Epoch 79/100\n",
      "413/413 [==============================] - 2s 4ms/step - loss: 0.2373 - val_loss: 0.2740\n",
      "Epoch 80/100\n",
      "413/413 [==============================] - 2s 4ms/step - loss: 0.2345 - val_loss: 0.2963\n",
      "Epoch 81/100\n",
      "413/413 [==============================] - 2s 4ms/step - loss: 0.2329 - val_loss: 0.2936\n",
      "Epoch 82/100\n",
      "413/413 [==============================] - 2s 4ms/step - loss: 0.2345 - val_loss: 0.2912\n",
      "Epoch 83/100\n",
      "413/413 [==============================] - 2s 4ms/step - loss: 0.2327 - val_loss: 0.2802\n",
      "Epoch 84/100\n",
      "413/413 [==============================] - 2s 4ms/step - loss: 0.2342 - val_loss: 0.2794\n",
      "Epoch 85/100\n",
      "413/413 [==============================] - 2s 4ms/step - loss: 0.2305 - val_loss: 0.2772\n",
      "Epoch 86/100\n",
      "413/413 [==============================] - 2s 4ms/step - loss: 0.2336 - val_loss: 0.2845\n",
      "Epoch 87/100\n",
      "413/413 [==============================] - 2s 4ms/step - loss: 0.2340 - val_loss: 0.2797\n",
      "Epoch 88/100\n",
      "413/413 [==============================] - 2s 4ms/step - loss: 0.2336 - val_loss: 0.2762\n",
      "Epoch 89/100\n",
      "413/413 [==============================] - 2s 4ms/step - loss: 0.2308 - val_loss: 0.2814\n",
      "Epoch 90/100\n",
      "413/413 [==============================] - 2s 4ms/step - loss: 0.2297 - val_loss: 0.2845\n",
      "Epoch 91/100\n",
      "413/413 [==============================] - 2s 4ms/step - loss: 0.2329 - val_loss: 0.2726\n",
      "Epoch 92/100\n",
      "413/413 [==============================] - 2s 4ms/step - loss: 0.2305 - val_loss: 0.2786\n",
      "Epoch 93/100\n",
      "413/413 [==============================] - 2s 4ms/step - loss: 0.2276 - val_loss: 0.2772\n",
      "Epoch 94/100\n",
      "413/413 [==============================] - 2s 4ms/step - loss: 0.2297 - val_loss: 0.2758\n",
      "Epoch 95/100\n",
      "413/413 [==============================] - 2s 4ms/step - loss: 0.2276 - val_loss: 0.2697\n",
      "Epoch 96/100\n",
      "413/413 [==============================] - 2s 4ms/step - loss: 0.2273 - val_loss: 0.2744\n",
      "Epoch 97/100\n",
      "413/413 [==============================] - 2s 4ms/step - loss: 0.2290 - val_loss: 0.2755\n",
      "Epoch 98/100\n",
      "413/413 [==============================] - 2s 4ms/step - loss: 0.2267 - val_loss: 0.2823\n",
      "Epoch 99/100\n",
      "413/413 [==============================] - 2s 4ms/step - loss: 0.2323 - val_loss: 0.2870\n",
      "Epoch 100/100\n",
      "413/413 [==============================] - 2s 4ms/step - loss: 0.2282 - val_loss: 0.2759\n"
     ]
    }
   ],
   "source": [
    "history = model.fit(X_train, y_train, epochs=100, batch_size=32, \n",
    "validation_split=0.2)"
   ]
  },
  {
   "cell_type": "code",
   "execution_count": 10,
   "id": "2a5ecc75",
   "metadata": {},
   "outputs": [
    {
     "name": "stdout",
     "output_type": "stream",
     "text": [
      "129/129 [==============================] - 0s 3ms/step - loss: 0.2785\n"
     ]
    },
    {
     "data": {
      "text/plain": [
       "0.2785296142101288"
      ]
     },
     "execution_count": 10,
     "metadata": {},
     "output_type": "execute_result"
    }
   ],
   "source": [
    "model.evaluate(X_test, y_test)"
   ]
  },
  {
   "cell_type": "code",
   "execution_count": 11,
   "id": "caa93414",
   "metadata": {},
   "outputs": [],
   "source": [
    "loss = history.history['loss']\n",
    "val_loss = history.history['val_loss']\n",
    "epochs = range(1, len(loss) + 1)"
   ]
  },
  {
   "cell_type": "code",
   "execution_count": 12,
   "id": "bb528351",
   "metadata": {},
   "outputs": [
    {
     "data": {
      "image/png": "[encoded data removed]",
      "text/plain": [
       "<Figure size 640x480 with 1 Axes>"
      ]
     },
     "metadata": {},
     "output_type": "display_data"
    }
   ],
   "source": [
    "plt.plot(epochs, loss, 'bo', label='Training loss')\n",
    "plt.plot(epochs, val_loss, 'b', label='Validation loss')\n",
    "plt.title('Training and validation loss')\n",
    "plt.xlabel('Epochs')\n",
    "plt.ylabel('Loss')\n",
    "plt.legend()\n",
    "plt.show()\n"
   ]
  },
  {
   "cell_type": "code",
   "execution_count": null,
   "id": "103632d5",
   "metadata": {},
   "outputs": [],
   "source": []
  }
 ],
 "metadata": {
  "kernelspec": {
   "display_name": "Python 3 (ipykernel)",
   "language": "python",
   "name": "python3"
  },
  "language_info": {
   "codemirror_mode": {
    "name": "ipython",
    "version": 3
   },
   "file_extension": ".py",
   "mimetype": "text/x-python",
   "name": "python",
   "nbconvert_exporter": "python",
   "pygments_lexer": "ipython3",
   "version": "3.9.7"
  }
 },
 "nbformat": 4,
 "nbformat_minor": 5
}
